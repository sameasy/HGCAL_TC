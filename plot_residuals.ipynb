{
 "cells": [
  {
   "cell_type": "code",
   "execution_count": 10,
   "metadata": {},
   "outputs": [],
   "source": [
    "import uproot\n",
    "import encode2\n",
    "import pandas as pd"
   ]
  },
  {
   "cell_type": "code",
   "execution_count": 11,
   "metadata": {},
   "outputs": [],
   "source": [
    "def getstring(inp):\n",
    "    st = \"\"\n",
    "    for i in inp :\n",
    "        st += str(i)\n",
    "    return st\n",
    "\n",
    "def getencodedlink(nhgc,nln):\n",
    "    outputencodedwafer = []\n",
    "    for i in range(0,nhgc):\n",
    "#        print (\"nHGC:\",i)\n",
    "        for j in range(0,nln):\n",
    "#            print (\"nlink:\",j)\n",
    "#            print (getstring(grouped.get_group((i,j ))['encodedCharge']))\n",
    "            outputencodedwafer.append(getstring(grouped.get_group((i,j ))['encodedCharge']))\n",
    "    return outputencodedwafer"
   ]
  },
  {
   "cell_type": "code",
   "execution_count": 12,
   "metadata": {},
   "outputs": [],
   "source": [
    "fName='root://cmseos.fnal.gov//store/user/dnoonan/HGCAL_Concentrator/NewNtuples/ntuple_hgcalNtuples_vbf_hmm_200PU_1.root'\n",
    "_tree = uproot.open(fName,xrootdsource=dict(chunkbytes=1024**3, limitbytes=1024**3))['hgcalTriggerNtuplizer/HGCalTriggerNtuple']"
   ]
  },
  {
   "cell_type": "code",
   "execution_count": 13,
   "metadata": {},
   "outputs": [
    {
     "name": "stdout",
     "output_type": "stream",
     "text": [
      "total events: 10\n"
     ]
    }
   ],
   "source": [
    "df = _tree.pandas.df( ['tc_subdet','tc_zside','tc_layer','tc_wafer','tc_cell','tc_data','tc_uncompressedCharge','tc_compressedCharge'],entrystart=0,entrystop=10)\n",
    "df.columns = ['subdet','zside','layer','wafer','triggercell','data','uncompressedCharge','compressedCharge']\n",
    "\n",
    "df.set_index(['subdet','zside','layer','wafer','triggercell'],append=True,inplace=True)\n",
    "df.reset_index('subentry',drop=True,inplace=True)\n",
    "df.sort_index(inplace=True)\n",
    "#df['encodedCharge'] = df.uncompressedCharge.apply(encode.encode,args=(True,1,4,3,True))\n",
    "df['encodedCharge'] = df.uncompressedCharge.apply(encode2.encode,args=(1,4,3,True))\n",
    "df['decodedCharge'] = df.encodedCharge.apply(encode2.decode,args=(1,4,3))\n",
    "\n",
    "dftest = df.copy()\n",
    "dftest.reset_index(inplace=True)\n",
    "nevents = len(dftest['entry'].unique())\n",
    "print (\"total events:\",len(dftest['entry'].unique()))"
   ]
  },
  {
   "cell_type": "code",
   "execution_count": 14,
   "metadata": {},
   "outputs": [],
   "source": [
    "geomName = \"root://cmseos.fnal.gov//store/user/dnoonan/HGCAL_Concentrator/triggerGeomV9.root\"\n",
    "geomTree = uproot.open(geomName,xrootdsource=dict(chunkbytes=1024**3, limitbytes=1024**3))[\"hgcaltriggergeomtester/TreeTriggerCells\"]\n",
    "geomDF = geomTree.pandas.df(['subdet','zside','layer','wafer','triggercell','c_n'])\n",
    "geomDF.set_index(['subdet','zside','layer','wafer','triggercell'],inplace=True)\n",
    "geomDF['isHDM'] = geomDF.c_n>4\n",
    "geomDF.sort_index(inplace=True)\n",
    "mapd = pd.read_csv('TC_MAP.csv')"
   ]
  },
  {
   "cell_type": "code",
   "execution_count": 20,
   "metadata": {},
   "outputs": [],
   "source": [
    "enclist = []\n",
    "declist = []\n",
    "uncomplist = []\n",
    "residuals=[]\n",
    "wafnumb = 99"
   ]
  },
  {
   "cell_type": "code",
   "execution_count": 21,
   "metadata": {},
   "outputs": [
    {
     "name": "stderr",
     "output_type": "stream",
     "text": [
      "/cvmfs/sft.cern.ch/lcg/views/LCG_95apython3/x86_64-centos7-gcc8-opt/lib/python3.6/site-packages/ipykernel_launcher.py:5: SettingWithCopyWarning: \n",
      "A value is trying to be set on a copy of a slice from a DataFrame.\n",
      "Try using .loc[row_indexer,col_indexer] = value instead\n",
      "\n",
      "See the caveats in the documentation: http://pandas.pydata.org/pandas-docs/stable/indexing.html#indexing-view-versus-copy\n",
      "  \"\"\"\n",
      "/cvmfs/sft.cern.ch/lcg/views/LCG_95apython3/x86_64-centos7-gcc8-opt/lib/python3.6/site-packages/ipykernel_launcher.py:6: SettingWithCopyWarning: \n",
      "A value is trying to be set on a copy of a slice from a DataFrame.\n",
      "Try using .loc[row_indexer,col_indexer] = value instead\n",
      "\n",
      "See the caveats in the documentation: http://pandas.pydata.org/pandas-docs/stable/indexing.html#indexing-view-versus-copy\n",
      "  \n",
      "/cvmfs/sft.cern.ch/lcg/views/LCG_95apython3/x86_64-centos7-gcc8-opt/lib/python3.6/site-packages/ipykernel_launcher.py:7: SettingWithCopyWarning: \n",
      "A value is trying to be set on a copy of a slice from a DataFrame.\n",
      "Try using .loc[row_indexer,col_indexer] = value instead\n",
      "\n",
      "See the caveats in the documentation: http://pandas.pydata.org/pandas-docs/stable/indexing.html#indexing-view-versus-copy\n",
      "  import sys\n",
      "/cvmfs/sft.cern.ch/lcg/views/LCG_95apython3/x86_64-centos7-gcc8-opt/lib/python3.6/site-packages/pandas/core/frame.py:3790: SettingWithCopyWarning: \n",
      "A value is trying to be set on a copy of a slice from a DataFrame\n",
      "\n",
      "See the caveats in the documentation: http://pandas.pydata.org/pandas-docs/stable/indexing.html#indexing-view-versus-copy\n",
      "  downcast=downcast, **kwargs)\n"
     ]
    },
    {
     "name": "stdout",
     "output_type": "stream",
     "text": [
      "48\n",
      "48\n",
      "48\n",
      "48\n",
      "48\n",
      "48\n",
      "48\n",
      "48\n",
      "48\n",
      "48\n"
     ]
    }
   ],
   "source": [
    "for nev in range (0,nevents):\n",
    "#### Get single wafer (event 0, subdet 3, zside 1, layer 5, wafer 99)\n",
    "    dfWafer = df.loc[nev,3,1,5,wafnumb]\n",
    "    geomDFWafer = geomDF.loc[3,1,5,99]\n",
    "    geomDFWafer['encodedCharge'] = dfWafer['encodedCharge']\n",
    "    geomDFWafer['decodedCharge'] = dfWafer['decodedCharge']\n",
    "    geomDFWafer['uncompressedCharge'] = dfWafer['uncompressedCharge']\n",
    "    geomDFWafer.fillna('0000000',inplace=True)\n",
    "    geomDFWafer.reset_index(inplace=True)\n",
    "#    geomDFWafer\n",
    "    merged = pd.merge(geomDFWafer, mapd, on=['triggercell','isHDM'])\n",
    "    nhgc = len(merged['nHGROC'].unique())\n",
    "    nln = len(merged['nlink'].unique())\n",
    "    #merged.set_index(['nlink'],append=True,inplace=True)\n",
    "    #merged\n",
    "    grouped = merged.groupby(['nHGROC','nlink'])\n",
    "    getencodedlink(nhgc,nln)\n",
    "    enclist.append(getencodedlink(nhgc,nln))\n",
    "    decodedlist = merged['decodedCharge'].tolist()\n",
    "    declist.append(decodedlist)\n",
    "    uncompressedlist = merged['uncompressedCharge'].tolist()\n",
    "    uncomplist.append(uncompressedlist)\n",
    "    print (len(decodedlist))\n",
    "    for i in range(0,len(decodedlist)):\n",
    "#        print (uncompressedlist[i],decodedlist[i])\n",
    "#        residuals.append(abs(int(uncompressedlist[i]) - int(decodedlist[i])))\n",
    "#        print ((int(uncompressedlist[i]) - int(decodedlist[i])))\n",
    "        residuals.append((int(uncompressedlist[i]) - int(decodedlist[i])))"
   ]
  },
  {
   "cell_type": "code",
   "execution_count": 22,
   "metadata": {},
   "outputs": [
    {
     "name": "stdout",
     "output_type": "stream",
     "text": [
      "480\n"
     ]
    },
    {
     "data": {
      "text/plain": [
       "Text(0.5,0,'residual value')"
      ]
     },
     "execution_count": 22,
     "metadata": {},
     "output_type": "execute_result"
    },
    {
     "data": {
      "image/png": "[encoded data removed]",
      "text/plain": [
       "<Figure size 432x288 with 1 Axes>"
      ]
     },
     "metadata": {},
     "output_type": "display_data"
    }
   ],
   "source": [
    "print (len(residuals))\n",
    "import matplotlib.pyplot as plt\n",
    "import numpy as np\n",
    "# if using a Jupyter notebook, includue:\n",
    "%matplotlib inline\n",
    "plt.hist(residuals, bins=100,range=(-50,50))\n",
    "plt.xlabel('residual value')"
   ]
  },
  {
   "cell_type": "code",
   "execution_count": null,
   "metadata": {},
   "outputs": [],
   "source": []
  }
 ],
 "metadata": {
  "kernelspec": {
   "display_name": "Python 3",
   "language": "python",
   "name": "python3"
  },
  "language_info": {
   "codemirror_mode": {
    "name": "ipython",
    "version": 3
   },
   "file_extension": ".py",
   "mimetype": "text/x-python",
   "name": "python",
   "nbconvert_exporter": "python",
   "pygments_lexer": "ipython3",
   "version": "3.6.5"
  }
 },
 "nbformat": 4,
 "nbformat_minor": 2
}
