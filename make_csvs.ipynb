{
 "cells": [
  {
   "cell_type": "code",
   "execution_count": 1,
   "metadata": {},
   "outputs": [],
   "source": [
    "import uproot"
   ]
  },
  {
   "cell_type": "code",
   "execution_count": 2,
   "metadata": {},
   "outputs": [],
   "source": [
    "geomName = \"root://cmseos.fnal.gov//store/user/dnoonan/HGCAL_Concentrator/triggerGeomV9.root\"\n",
    "geomTree = uproot.open(geomName,xrootdsource=dict(chunkbytes=1024**3, limitbytes=1024**3))[\"hgcaltriggergeomtester/TreeTriggerCells\"]"
   ]
  },
  {
   "cell_type": "code",
   "execution_count": 3,
   "metadata": {},
   "outputs": [],
   "source": [
    "geomDF = geomTree.pandas.df(['subdet','zside','layer','wafer','triggercell','c_n'])"
   ]
  },
  {
   "cell_type": "code",
   "execution_count": 4,
   "metadata": {},
   "outputs": [],
   "source": [
    "geomDF.set_index(['subdet','zside','layer','wafer','triggercell'],inplace=True)\n",
    "geomDF['isHDM'] = geomDF.c_n>4\n",
    "geomDF.sort_index(inplace=True)\n",
    "#geomDF"
   ]
  },
  {
   "cell_type": "code",
   "execution_count": 5,
   "metadata": {},
   "outputs": [],
   "source": [
    "geomDFWaferHD = geomDF.loc[3,1,5,38]\n",
    "geomDFWaferHD.reset_index(inplace=True)\n",
    "geomDFWaferLD = geomDF.loc[3,1,5,99]\n",
    "geomDFWaferLD.reset_index(inplace=True)"
   ]
  },
  {
   "cell_type": "code",
   "execution_count": 8,
   "metadata": {},
   "outputs": [
    {
     "name": "stdout",
     "output_type": "stream",
     "text": [
      "LD wafers=========>\n",
      "    triggercell  isHDM  nlinkbits  nlink  nHGROC\n",
      "0             0  False          0      0       0\n",
      "1             1  False          1      0       0\n",
      "2             2  False          2      0       0\n",
      "3             3  False          3      0       0\n",
      "4             4  False          0      1       0\n",
      "5             5  False          1      1       0\n",
      "6             6  False          2      1       0\n",
      "7             7  False          3      1       0\n",
      "8             8  False          0      2       0\n",
      "9             9  False          1      2       0\n",
      "10           10  False          2      2       0\n",
      "11           11  False          3      2       0\n",
      "12           12  False          0      3       0\n",
      "13           13  False          1      3       0\n",
      "14           14  False          2      3       0\n",
      "15           15  False          3      3       0\n",
      "16           16  False          0      0       1\n",
      "17           17  False          1      0       1\n",
      "18           18  False          2      0       1\n",
      "19           19  False          3      0       1\n",
      "20           20  False          0      1       1\n",
      "21           21  False          1      1       1\n",
      "22           22  False          2      1       1\n",
      "23           23  False          3      1       1\n",
      "24           24  False          0      2       1\n",
      "25           25  False          1      2       1\n",
      "26           26  False          2      2       1\n",
      "27           27  False          3      2       1\n",
      "28           28  False          0      3       1\n",
      "29           29  False          1      3       1\n",
      "30           30  False          2      3       1\n",
      "31           31  False          3      3       1\n",
      "32           32  False          0      0       2\n",
      "33           33  False          1      0       2\n",
      "34           34  False          2      0       2\n",
      "35           35  False          3      0       2\n",
      "36           36  False          0      1       2\n",
      "37           37  False          1      1       2\n",
      "38           38  False          2      1       2\n",
      "39           39  False          3      1       2\n",
      "40           40  False          0      2       2\n",
      "41           41  False          1      2       2\n",
      "42           42  False          2      2       2\n",
      "43           43  False          3      2       2\n",
      "44           44  False          0      3       2\n",
      "45           45  False          1      3       2\n",
      "46           46  False          2      3       2\n",
      "47           47  False          3      3       2\n",
      "HD wafers=========>\n",
      "    triggercell  isHDM  nlinkbits  nlink  nHGROC\n",
      "0             0   True          0      0       0\n",
      "1             1   True          1      0       0\n",
      "2             2   True          2      0       0\n",
      "3             3   True          3      0       0\n",
      "4             4   True          0      1       0\n",
      "5             5   True          1      1       0\n",
      "6             6   True          2      1       0\n",
      "7             7   True          3      1       0\n",
      "8             8   True          0      0       1\n",
      "9             9   True          1      0       1\n",
      "10           10   True          2      0       1\n",
      "11           11   True          3      0       1\n",
      "12           12   True          0      1       1\n",
      "13           13   True          1      1       1\n",
      "14           14   True          2      1       1\n",
      "15           15   True          3      1       1\n",
      "16           16   True          0      0       2\n",
      "17           17   True          1      0       2\n",
      "18           18   True          2      0       2\n",
      "19           19   True          3      0       2\n",
      "20           20   True          0      1       2\n",
      "21           21   True          1      1       2\n",
      "22           22   True          2      1       2\n",
      "23           23   True          3      1       2\n",
      "24           24   True          0      0       3\n",
      "25           25   True          1      0       3\n",
      "26           26   True          2      0       3\n",
      "27           27   True          3      0       3\n",
      "28           28   True          0      1       3\n",
      "29           29   True          1      1       3\n",
      "30           30   True          2      1       3\n",
      "31           31   True          3      1       3\n",
      "32           32   True          0      0       4\n",
      "33           33   True          1      0       4\n",
      "34           34   True          2      0       4\n",
      "35           35   True          3      0       4\n",
      "36           36   True          0      1       4\n",
      "37           37   True          1      1       4\n",
      "38           38   True          2      1       4\n",
      "39           39   True          3      1       4\n",
      "40           40   True          0      0       5\n",
      "41           41   True          1      0       5\n",
      "42           42   True          2      0       5\n",
      "43           43   True          3      0       5\n",
      "44           44   True          0      1       5\n",
      "45           45   True          1      1       5\n",
      "46           46   True          2      1       5\n",
      "47           47   True          3      1       5\n"
     ]
    }
   ],
   "source": [
    "\n",
    "geomDFWaferLD_f = geomDFWaferLD[['triggercell', 'isHDM']].copy()\n",
    "geomDFWaferLD_f['nlinkbits'] = geomDFWaferLD_f.triggercell.apply(lambda row : row%4 )\n",
    "geomDFWaferLD_f['nlink'] = geomDFWaferLD_f.triggercell.apply(lambda row : int(row/4)%4 )\n",
    "geomDFWaferLD_f['nHGROC'] = geomDFWaferLD_f.triggercell.apply(lambda row : int(row/16) )\n",
    "print (\"LD wafers=========>\")\n",
    "print (geomDFWaferLD_f)\n",
    "geomDFWaferHD_f = geomDFWaferHD[['triggercell', 'isHDM']].copy()\n",
    "geomDFWaferHD_f['nlinkbits'] = geomDFWaferHD_f.triggercell.apply(lambda row : row%4 )\n",
    "geomDFWaferHD_f['nlink'] = geomDFWaferHD_f.triggercell.apply(lambda row : 1*(int(row/4)%2) )\n",
    "geomDFWaferHD_f['nHGROC'] = geomDFWaferHD_f.triggercell.apply(lambda row : int(row/8) )\n",
    "print (\"HD wafers=========>\")\n",
    "print (geomDFWaferHD_f) \n",
    "\n",
    "geomDFWaferLD_f.to_csv(\"LowDensity_MAP.csv\", encoding='utf-8', index=False)\n",
    "geomDFWaferHD_f.to_csv(\"HighDensity_MAP.csv\", encoding='utf-8', index=False)\n"
   ]
  },
  {
   "cell_type": "code",
   "execution_count": 10,
   "metadata": {},
   "outputs": [],
   "source": [
    "import pandas as pd\n",
    "concat_df = pd.concat([geomDFWaferLD_f,geomDFWaferHD_f])\n",
    "concat_df\n",
    "concat_df.to_csv(\"TC_MAP.csv\", encoding='utf-8', index=False)\n"
   ]
  },
  {
   "cell_type": "code",
   "execution_count": null,
   "metadata": {},
   "outputs": [],
   "source": []
  }
 ],
 "metadata": {
  "kernelspec": {
   "display_name": "Python 3",
   "language": "python",
   "name": "python3"
  },
  "language_info": {
   "codemirror_mode": {
    "name": "ipython",
    "version": 3
   },
   "file_extension": ".py",
   "mimetype": "text/x-python",
   "name": "python",
   "nbconvert_exporter": "python",
   "pygments_lexer": "ipython3",
   "version": "3.6.5"
  }
 },
 "nbformat": 4,
 "nbformat_minor": 2
}
